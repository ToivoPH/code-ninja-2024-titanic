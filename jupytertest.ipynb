{
 "cells": [
  {
   "cell_type": "code",
   "execution_count": null,
   "metadata": {},
   "outputs": [],
   "source": [
    "# print('running')\n",
    "import pandas as pd\n",
    "import matplotlib.pyplot as plt\n",
    "df = pd.read_csv(\"titanic_cleaned.csv\")\n",
    "\n",
    "#task 5\n",
    "#output the new dataframe df_2 that has columns survives name age fare.\n",
    "#df2 = df.loc[:, ['Survived', 'Name', 'Age', 'Fare']] \n",
    "\"\"\"\n",
    "def age_class (row):\n",
    "    if row['Age'] < 18:\n",
    "        return \"child\"\n",
    "    else:\n",
    "        return \"adult\"\n",
    "\"\"\"\n",
    "#task 6\n",
    "\n",
    "#df2 = (df.loc[df['Age'] > 1].filter(['Survived', 'Age']))\n",
    "#df2['Age Class'] = df2.apply(age_class, axis=1)\n",
    "# assign and where. OR loc[]\n",
    "df2.loc[df2['Age'] <= 18, 'age_class'] = 'Child'\n",
    "df2.loc[df2['Age'] > 18, 'age_class'] = 'Adult'\n",
    "df2.loc[df2['Age'] > 59, 'age_class'] = 'Elderly'\n",
    "\n",
    "# print(df2)\n",
    "\n",
    "filtered_df2 = df2[df2['Survived'] == True]\n",
    "\n",
    "grouped = filtered_df2.groupby('age_class')['Age'].mean()\n",
    "grouped = grouped.reset_index()\n",
    "grouped.columns = ['age_class', 'mean']\n",
    "grouped['mean2'] = grouped['mean'].round(2)\n",
    "\n",
    "grouped.plot(kind='barh')\n",
    "plt.title('demoagemeantitanic')\n",
    "plt.show()\n",
    "\n",
    "grouped\n",
    "# pivoted_df2 = grouped.pivot_table(index='Age', columns='age_class', aggfunc='mean')\n",
    "# print(pivoted_df2)\n",
    "# pivoted_df2"
   ]
  },
  {
   "cell_type": "code",
   "execution_count": null,
   "metadata": {},
   "outputs": [],
   "source": [
    "import pandas as pd\n",
    "\n",
    "# print('running')\n",
    "\n",
    "df = pd.read_csv(\"titanic_cleaned.csv\")\n",
    "\n",
    "df.head(10)"
   ]
  },
  {
   "cell_type": "markdown",
   "metadata": {},
   "source": [
    "# title"
   ]
  },
  {
   "cell_type": "markdown",
   "metadata": {},
   "source": [
    "above is an iloc"
   ]
  },
  {
   "cell_type": "markdown",
   "metadata": {},
   "source": [
    "create a new dataframe df_2 that has columns survives name age fare."
   ]
  }
 ],
 "metadata": {
  "kernelspec": {
   "display_name": "Python 3",
   "language": "python",
   "name": "python3"
  },
  "language_info": {
   "codemirror_mode": {
    "name": "ipython",
    "version": 3
   },
   "file_extension": ".py",
   "mimetype": "text/x-python",
   "name": "python",
   "nbconvert_exporter": "python",
   "pygments_lexer": "ipython3",
   "version": "3.11.4"
  }
 },
 "nbformat": 4,
 "nbformat_minor": 2
}
